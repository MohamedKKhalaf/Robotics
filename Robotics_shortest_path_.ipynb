{
  "nbformat": 4,
  "nbformat_minor": 0,
  "metadata": {
    "colab": {
      "provenance": [],
      "include_colab_link": true
    },
    "kernelspec": {
      "name": "python3",
      "display_name": "Python 3"
    },
    "language_info": {
      "name": "python"
    }
  },
  "cells": [
    {
      "cell_type": "markdown",
      "metadata": {
        "id": "view-in-github",
        "colab_type": "text"
      },
      "source": [
        "<a href=\"https://colab.research.google.com/github/MohamedKKhalaf/Robotics/blob/main/Robotics_shortest_path_.ipynb\" target=\"_parent\"><img src=\"https://colab.research.google.com/assets/colab-badge.svg\" alt=\"Open In Colab\"/></a>"
      ]
    },
    {
      "cell_type": "code",
      "execution_count": null,
      "metadata": {
        "id": "lOAXxk1XGWL2"
      },
      "outputs": [],
      "source": [
        "import numpy as np\n",
        "map=np.zeros(1000000)\n",
        "map=map.reshape(1000,1000)"
      ]
    },
    {
      "cell_type": "code",
      "source": [
        "def obstacle(map,a,b,c,d,value):\n",
        "  for i in range(len(map)):\n",
        "    for j in range(len(map[i])):\n",
        "      if i >=a and i<=b and j>=c and j<=d:\n",
        "        map[i][j]=1\n",
        "  return map"
      ],
      "metadata": {
        "id": "CA6UvbvsGZnQ"
      },
      "execution_count": null,
      "outputs": []
    },
    {
      "cell_type": "code",
      "source": [
        "map=obstacle(map,0,200,800,999,1)\n",
        "map=obstacle(map,200,999,400,600,1)\n",
        "map=obstacle(map,0,400,200,300,1)\n",
        "\n",
        "start=(10,10)\n",
        "goal=(950,950)"
      ],
      "metadata": {
        "id": "kolLhqy4GbN3"
      },
      "execution_count": null,
      "outputs": []
    },
    {
      "cell_type": "code",
      "source": [
        "import matplotlib.pyplot as plt\n",
        "\n",
        "\n",
        "fig, ax = plt.subplots(figsize=(8,8))\n",
        "\n",
        "ax.imshow(map, cmap=plt.cm.OrRd_r)\n",
        "\n",
        "ax.scatter(start[1],start[0], marker = \".\", color = \"yellow\", s = 200)\n",
        "\n",
        "ax.scatter(goal[1],goal[0], marker = \"*\", color = \"green\", s = 200)\n",
        "\n",
        "plt.show()"
      ],
      "metadata": {
        "id": "t1IbOVwDGumT",
        "colab": {
          "base_uri": "https://localhost:8080/",
          "height": 486
        },
        "outputId": "bcb218dd-b3c0-4fce-f2cb-148030ebad3b"
      },
      "execution_count": null,
      "outputs": [
        {
          "output_type": "display_data",
          "data": {
            "image/png": "[encoded data removed]",
            "text/plain": [
              "<Figure size 576x576 with 1 Axes>"
            ]
          },
          "metadata": {
            "needs_background": "light"
          }
        }
      ]
    },
    {
      "cell_type": "code",
      "source": [
        "def heuristic(a, b):\n",
        "\n",
        "    return np.sqrt((b[0] - a[0]) ** 2 + (b[1] - a[1]) ** 2)"
      ],
      "metadata": {
        "id": "fbz3weAtPATO"
      },
      "execution_count": null,
      "outputs": []
    },
    {
      "cell_type": "code",
      "source": [
        "import heapq\n",
        "\n",
        "def astar(array, start, goal):\n",
        "\n",
        "    neighbors = [(0,10),(10,0),(-10,0)]\n",
        "    close_set = set()\n",
        "    came_from = {}\n",
        "    gscore = {start:0}\n",
        "    fscore = {start:heuristic(start, goal)}\n",
        "    oheap = []\n",
        "    heapq.heappush(oheap, (fscore[start], start))\n",
        "\n",
        "    while oheap:\n",
        "        current = heapq.heappop(oheap)[1]\n",
        "\n",
        "        if current == goal:\n",
        "            data = []\n",
        "\n",
        "            while current in came_from:\n",
        "                data.append(current)\n",
        "                current = came_from[current]\n",
        "            return data\n",
        "\n",
        "        close_set.add(current)\n",
        "\n",
        "        for i, j in neighbors:\n",
        "            neighbor = current[0] + i, current[1] + j\n",
        "            tentative_g_score = gscore[current] + heuristic(current, neighbor)\n",
        "            if 0 <= neighbor[0] < array.shape[0]:\n",
        "                if 0 <= neighbor[1] < array.shape[1]:\n",
        "                    if array[neighbor[0]][neighbor[1]] == 1:\n",
        "                        continue\n",
        "\n",
        "                else:\n",
        "                    # array bound y walls\n",
        "                    continue\n",
        "\n",
        "            else:\n",
        "                # array bound x walls\n",
        "                continue\n",
        "\n",
        "            if neighbor in close_set and tentative_g_score >= gscore.get(neighbor, 0):\n",
        "                continue\n",
        "\n",
        "            if  tentative_g_score < gscore.get(neighbor, 0) or neighbor not in [i[1]for i in oheap]:\n",
        "                came_from[neighbor] = current\n",
        "                gscore[neighbor] = tentative_g_score\n",
        "                fscore[neighbor] = tentative_g_score + heuristic(neighbor, goal)\n",
        "                heapq.heappush(oheap, (fscore[neighbor], neighbor))"
      ],
      "metadata": {
        "id": "mQBND6dHPJab"
      },
      "execution_count": null,
      "outputs": []
    },
    {
      "cell_type": "code",
      "source": [
        "route = astar(map, start, goal)\n",
        "route = route + [start]\n",
        "print(route)"
      ],
      "metadata": {
        "id": "5eTggyFTPvWL",
        "colab": {
          "base_uri": "https://localhost:8080/"
        },
        "outputId": "d262502b-afc1-4632-e5e2-a35b93211ad3"
      },
      "execution_count": null,
      "outputs": [
        {
          "output_type": "stream",
          "name": "stdout",
          "text": [
            "[(950, 950), (940, 950), (940, 940), (930, 940), (930, 930), (920, 930), (920, 920), (910, 920), (910, 910), (900, 910), (900, 900), (890, 900), (890, 890), (880, 890), (880, 880), (870, 880), (870, 870), (860, 870), (860, 860), (850, 860), (850, 850), (840, 850), (840, 840), (830, 840), (830, 830), (820, 830), (820, 820), (810, 820), (810, 810), (800, 810), (800, 800), (790, 800), (790, 790), (780, 790), (780, 780), (770, 780), (770, 770), (760, 770), (760, 760), (750, 760), (750, 750), (740, 750), (740, 740), (730, 740), (730, 730), (720, 730), (720, 720), (710, 720), (710, 710), (700, 710), (700, 700), (690, 700), (690, 690), (680, 690), (680, 680), (670, 680), (670, 670), (660, 670), (660, 660), (650, 660), (650, 650), (640, 650), (640, 640), (630, 640), (630, 630), (620, 630), (620, 620), (610, 620), (610, 610), (600, 610), (590, 610), (580, 610), (570, 610), (560, 610), (550, 610), (540, 610), (530, 610), (520, 610), (510, 610), (500, 610), (490, 610), (480, 610), (470, 610), (460, 610), (450, 610), (440, 610), (430, 610), (420, 610), (410, 610), (400, 610), (390, 610), (380, 610), (370, 610), (360, 610), (350, 610), (340, 610), (330, 610), (320, 610), (310, 610), (300, 610), (290, 610), (280, 610), (270, 610), (260, 610), (250, 610), (240, 610), (230, 610), (220, 610), (210, 610), (200, 610), (190, 610), (190, 600), (190, 590), (190, 580), (190, 570), (190, 560), (190, 550), (190, 540), (190, 530), (190, 520), (190, 510), (190, 500), (190, 490), (190, 480), (190, 470), (190, 460), (190, 450), (190, 440), (190, 430), (190, 420), (190, 410), (190, 400), (190, 390), (200, 390), (210, 390), (220, 390), (230, 390), (240, 390), (250, 390), (260, 390), (270, 390), (280, 390), (290, 390), (300, 390), (310, 390), (320, 390), (330, 390), (340, 390), (350, 390), (360, 390), (370, 390), (380, 390), (390, 390), (400, 390), (410, 390), (410, 380), (410, 370), (410, 360), (410, 350), (410, 340), (410, 330), (410, 320), (410, 310), (410, 300), (410, 290), (410, 280), (410, 270), (410, 260), (410, 250), (410, 240), (410, 230), (410, 220), (410, 210), (410, 200), (410, 190), (400, 190), (390, 190), (380, 190), (370, 190), (360, 190), (350, 190), (340, 190), (330, 190), (320, 190), (310, 190), (300, 190), (290, 190), (280, 190), (270, 190), (260, 190), (250, 190), (240, 190), (230, 190), (220, 190), (210, 190), (200, 190), (190, 190), (180, 190), (180, 180), (170, 180), (170, 170), (160, 170), (160, 160), (150, 160), (150, 150), (140, 150), (140, 140), (130, 140), (130, 130), (120, 130), (120, 120), (110, 120), (110, 110), (100, 110), (100, 100), (90, 100), (90, 90), (80, 90), (80, 80), (70, 80), (70, 70), (60, 70), (60, 60), (50, 60), (50, 50), (40, 50), (40, 40), (30, 40), (30, 30), (20, 30), (20, 20), (10, 20), (10, 10)]\n"
          ]
        }
      ]
    },
    {
      "cell_type": "code",
      "source": [
        "route = route[::-1]\n",
        "print(route)"
      ],
      "metadata": {
        "colab": {
          "base_uri": "https://localhost:8080/"
        },
        "id": "y-2F1A30P8IU",
        "outputId": "ebc4dfa2-9714-4400-b6d4-f1e3186b21a3"
      },
      "execution_count": null,
      "outputs": [
        {
          "output_type": "stream",
          "name": "stdout",
          "text": [
            "[(10, 10), (10, 20), (20, 20), (20, 30), (30, 30), (30, 40), (40, 40), (40, 50), (50, 50), (50, 60), (60, 60), (60, 70), (70, 70), (70, 80), (80, 80), (80, 90), (90, 90), (90, 100), (100, 100), (100, 110), (110, 110), (110, 120), (120, 120), (120, 130), (130, 130), (130, 140), (140, 140), (140, 150), (150, 150), (150, 160), (160, 160), (160, 170), (170, 170), (170, 180), (180, 180), (180, 190), (190, 190), (200, 190), (210, 190), (220, 190), (230, 190), (240, 190), (250, 190), (260, 190), (270, 190), (280, 190), (290, 190), (300, 190), (310, 190), (320, 190), (330, 190), (340, 190), (350, 190), (360, 190), (370, 190), (380, 190), (390, 190), (400, 190), (410, 190), (410, 200), (410, 210), (410, 220), (410, 230), (410, 240), (410, 250), (410, 260), (410, 270), (410, 280), (410, 290), (410, 300), (410, 310), (410, 320), (410, 330), (410, 340), (410, 350), (410, 360), (410, 370), (410, 380), (410, 390), (400, 390), (390, 390), (380, 390), (370, 390), (360, 390), (350, 390), (340, 390), (330, 390), (320, 390), (310, 390), (300, 390), (290, 390), (280, 390), (270, 390), (260, 390), (250, 390), (240, 390), (230, 390), (220, 390), (210, 390), (200, 390), (190, 390), (190, 400), (190, 410), (190, 420), (190, 430), (190, 440), (190, 450), (190, 460), (190, 470), (190, 480), (190, 490), (190, 500), (190, 510), (190, 520), (190, 530), (190, 540), (190, 550), (190, 560), (190, 570), (190, 580), (190, 590), (190, 600), (190, 610), (200, 610), (210, 610), (220, 610), (230, 610), (240, 610), (250, 610), (260, 610), (270, 610), (280, 610), (290, 610), (300, 610), (310, 610), (320, 610), (330, 610), (340, 610), (350, 610), (360, 610), (370, 610), (380, 610), (390, 610), (400, 610), (410, 610), (420, 610), (430, 610), (440, 610), (450, 610), (460, 610), (470, 610), (480, 610), (490, 610), (500, 610), (510, 610), (520, 610), (530, 610), (540, 610), (550, 610), (560, 610), (570, 610), (580, 610), (590, 610), (600, 610), (610, 610), (610, 620), (620, 620), (620, 630), (630, 630), (630, 640), (640, 640), (640, 650), (650, 650), (650, 660), (660, 660), (660, 670), (670, 670), (670, 680), (680, 680), (680, 690), (690, 690), (690, 700), (700, 700), (700, 710), (710, 710), (710, 720), (720, 720), (720, 730), (730, 730), (730, 740), (740, 740), (740, 750), (750, 750), (750, 760), (760, 760), (760, 770), (770, 770), (770, 780), (780, 780), (780, 790), (790, 790), (790, 800), (800, 800), (800, 810), (810, 810), (810, 820), (820, 820), (820, 830), (830, 830), (830, 840), (840, 840), (840, 850), (850, 850), (850, 860), (860, 860), (860, 870), (870, 870), (870, 880), (880, 880), (880, 890), (890, 890), (890, 900), (900, 900), (900, 910), (910, 910), (910, 920), (920, 920), (920, 930), (930, 930), (930, 940), (940, 940), (940, 950), (950, 950)]\n"
          ]
        }
      ]
    },
    {
      "cell_type": "code",
      "source": [
        "x_coords = []\n",
        "\n",
        "y_coords = []\n",
        "\n",
        "for i in (range(0,len(route))):\n",
        "\n",
        "    x = route[i][0]\n",
        "\n",
        "    y = route[i][1]\n",
        "\n",
        "    x_coords.append(x)\n",
        "\n",
        "    y_coords.append(y)\n",
        "\n",
        "# plot map and path\n",
        "\n",
        "fig, ax = plt.subplots(figsize=(8,8))\n",
        "\n",
        "ax.imshow(map, cmap=plt.cm.OrRd_r)\n",
        "\n",
        "ax.scatter(start[1],start[0], marker = \".\", color = \"yellow\", s = 200)\n",
        "\n",
        "ax.scatter(goal[1],goal[0], marker = \"*\", color = \"green\", s = 200)\n",
        "\n",
        "ax.plot(y_coords,x_coords, color = \"yellow\")\n",
        "\n",
        "plt.show()"
      ],
      "metadata": {
        "colab": {
          "base_uri": "https://localhost:8080/",
          "height": 486
        },
        "id": "R55Apt0VSu8o",
        "outputId": "4f02719b-70cf-40dd-96ae-82329b16e928"
      },
      "execution_count": null,
      "outputs": [
        {
          "output_type": "display_data",
          "data": {
            "image/png": "[encoded data removed]",
            "text/plain": [
              "<Figure size 576x576 with 1 Axes>"
            ]
          },
          "metadata": {
            "needs_background": "light"
          }
        }
      ]
    }
  ]
}